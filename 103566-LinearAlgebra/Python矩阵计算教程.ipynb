{
 "cells": [
  {
   "cell_type": "markdown",
   "metadata": {},
   "source": [
    "# Python矩阵计算教程"
   ]
  },
  {
   "cell_type": "markdown",
   "metadata": {},
   "source": [
    "## 0. 准备工作（可选）"
   ]
  },
  {
   "cell_type": "markdown",
   "metadata": {},
   "source": [
    "### 0.1 安装"
   ]
  },
  {
   "cell_type": "markdown",
   "metadata": {},
   "source": [
    "如果已经安装好Python环境，可以跳过该部分。\n",
    "\n",
    "Anaconda作为非常热门的数据分析集成环境，自带了Python、包管理以及常用的Python包。下载十分简单，进入[Ananconda官网](https://www.anaconda.com/distribution/)，按照提示进行下载即可（安装过程中会有是否将其加入环境变量PATH的选项，方便在命令行直接运行起见，建议勾选）。"
   ]
  },
  {
   "cell_type": "markdown",
   "metadata": {},
   "source": [
    "### 0.2 运行"
   ]
  },
  {
   "cell_type": "markdown",
   "metadata": {},
   "source": [
    "如果已经知道如何运行Python程序，可以跳过该部分。\n",
    "\n",
    "安装完成后可以通过三方编辑器/IDE或者命令行运行Python。下面以`Jupyter Notebook`为例，介绍如何编写代码并运行。\n",
    "\n",
    "首先打开命令行工具，进入想要存放代码的文件夹，并运行`Jupyter Notebook`：\n",
    "\n",
    "```shell\n",
    "$ cd <YOUR_DIRECTORY>\n",
    "$ jupyter notebook\n",
    "```\n",
    "\n",
    "成功启动后，浏览器会自动打开`Jupyter Notebook`的运行目录，如下图。![](imgs/jupyter.png)\n",
    "\n",
    "点击右上角“新建”下拉框，点选“Notebook”类别下的“Python3”，用来新建一个Python的Notebook。\n",
    "\n",
    "此时浏览器会一个空白的笔记本页面，其中顶部如下图所示。![](imgs/top-bar.png)\n",
    "\n",
    "点击顶部“未命名”，可以对该Notebook重命名，否则默认命名为`未命名.ipynb`，其中后缀`.ipynb`为ipython notebook的缩写。\n",
    "\n",
    "Notebook主体内容以代码块为单位进行存放，空白的笔记本默认有一个代码块，如下图所示。![](imgs/cell.png)\n",
    "\n",
    "整体流程为在代码块中书写代码，运行（通过顶部运行按钮或者<kbd>Ctrl</kbd>+<kbd>Enter</kbd>实现）并得到结果，继续书写。\n",
    "\n",
    "顶部功能按钮含义十分直观。例如“+”按钮就是在目前代码块下方新增代码块；运行按钮就是运行当前代码块；其他功能可以自行摸索。"
   ]
  },
  {
   "cell_type": "markdown",
   "metadata": {},
   "source": [
    "### 0.3 关于Python编程\n",
    "\n",
    "Python语言本身非常适合learning by doing，上手很快，跟着下面的代码依葫芦画瓢基本上就能操作。\n",
    "\n",
    "如果完全没有编程基础，可以网上找一些教程看看，比如《Learn Python the Hard way》等。随着以后编程课的学习，了解面向对象等编程思想后，可以再继续了解Python更为高级的编程技巧。总体而言，没有必要专门学习Python，只需随着本身的需要去学习，充分利用Stack Overflow等问答论坛以及Python各种Package的官方文档，就能不断精进。\n",
    "\n",
    "注：Python Package即别人将一些常用代码写好，自己需要使用的时候直接调用，免去细节亲力亲为的繁琐。"
   ]
  },
  {
   "cell_type": "markdown",
   "metadata": {},
   "source": [
    "## 1. 利用Numpy进行矩阵运算"
   ]
  },
  {
   "cell_type": "markdown",
   "metadata": {},
   "source": [
    "在Python中，矩阵运算相关的各种函数与数据结构封装在Numpy包中，我们直接调用该包即可。\n",
    "\n",
    "为方便从Excel中读取数据，我们也会使用Pandas包，其本身为表格类数据提供了非常方便使用的数据结构。"
   ]
  },
  {
   "cell_type": "markdown",
   "metadata": {},
   "source": [
    "### 1.1 从Excel读入数据"
   ]
  },
  {
   "cell_type": "code",
   "execution_count": 1,
   "metadata": {},
   "outputs": [],
   "source": [
    "# 通过import命令引用所需的包\n",
    "# 通过as关键字修改包在实际调用时的名称，主要是偷懒和方便\n",
    "import numpy as np\n",
    "import pandas as pd"
   ]
  },
  {
   "cell_type": "code",
   "execution_count": 2,
   "metadata": {},
   "outputs": [
    {
     "data": {
      "text/plain": [
       "array([[1, 2, 3],\n",
       "       [4, 5, 6],\n",
       "       [7, 8, 9]])"
      ]
     },
     "execution_count": 2,
     "metadata": {},
     "output_type": "execute_result"
    }
   ],
   "source": [
    "# 首先将Excel中的数据作为Pandas数据结构DataFrame读入\n",
    "# 如果是csv文件，可以用过pd.read_csv读入，自行查看Pandas文档了解\n",
    "A = pd.read_excel(\"data/A.xlsx\", header=None)\n",
    "# 然后转换为Numpy数组类型\n",
    "A = A.values\n",
    "\n",
    "A"
   ]
  },
  {
   "cell_type": "code",
   "execution_count": 3,
   "metadata": {},
   "outputs": [
    {
     "data": {
      "text/plain": [
       "array([[1],\n",
       "       [2],\n",
       "       [3]])"
      ]
     },
     "execution_count": 3,
     "metadata": {},
     "output_type": "execute_result"
    }
   ],
   "source": [
    "b = pd.read_excel(\"data/b.xlsx\", header=None)\n",
    "b = b.values\n",
    "\n",
    "b"
   ]
  },
  {
   "cell_type": "code",
   "execution_count": 4,
   "metadata": {},
   "outputs": [
    {
     "data": {
      "text/plain": [
       "array([1, 2, 3])"
      ]
     },
     "execution_count": 4,
     "metadata": {},
     "output_type": "execute_result"
    }
   ],
   "source": [
    "# 由于b是按照3行1列的二维数组读入的，为方便下面的计算，额外将其转换为一维数组\n",
    "# 类似效果可以通过flatten函数或reshape函数完成，自行查看Numpy文档了解\n",
    "b = b.ravel()\n",
    "b"
   ]
  },
  {
   "cell_type": "markdown",
   "metadata": {},
   "source": [
    "### 1.2 基本运算"
   ]
  },
  {
   "cell_type": "markdown",
   "metadata": {},
   "source": [
    "\"+ - * /\"对应的是矩阵对应元素的四则运算，矩阵乘法通过dot函数实现，如下"
   ]
  },
  {
   "cell_type": "code",
   "execution_count": 5,
   "metadata": {},
   "outputs": [
    {
     "name": "stdout",
     "output_type": "stream",
     "text": [
      "A[i] + A[i] =  [[ 2  4  6]\n",
      " [ 8 10 12]\n",
      " [14 16 18]] \n",
      "\n",
      "A[i] * A[i] =  [[ 1  4  9]\n",
      " [16 25 36]\n",
      " [49 64 81]] \n",
      "\n",
      "A b =  [14 32 50] \n",
      "\n"
     ]
    }
   ],
   "source": [
    "# print函数可以打印一个或多个对象，多个对象通过逗号间隔\n",
    "print(\"A[i] + A[i] = \", A + A, \"\\n\")\n",
    "print(\"A[i] * A[i] = \", A * A, \"\\n\")\n",
    "print(\"A b = \", A.dot(b), \"\\n\")"
   ]
  },
  {
   "cell_type": "markdown",
   "metadata": {},
   "source": [
    "此外如果矩阵X大小为(b1, ..., bn, a1, a2, ..., am)，矩阵Y大小为(a1, a2, ..., am)，\n",
    "那么X + Y, X * Y, X - Y, X / Y对应的是Y作用在X所有(b1, ..., bn)子块上，该操作称之为broadcast。\n",
    "\n",
    "特别地，对于矩阵X，X + 1意味着X每个元素加上一，如下"
   ]
  },
  {
   "cell_type": "code",
   "execution_count": 6,
   "metadata": {},
   "outputs": [
    {
     "name": "stdout",
     "output_type": "stream",
     "text": [
      "[[ 3  4  5]\n",
      " [ 6  7  8]\n",
      " [ 9 10 11]] \n",
      "\n",
      "[2 4 6] \n",
      "\n",
      "[[0 0 0]\n",
      " [3 3 3]\n",
      " [6 6 6]] \n",
      "\n"
     ]
    }
   ],
   "source": [
    "print(A + 2, \"\\n\")\n",
    "print(b * 2, \"\\n\")\n",
    "print(A - b, \"\\n\")"
   ]
  },
  {
   "cell_type": "markdown",
   "metadata": {},
   "source": [
    "### 1.3 其他常见操作"
   ]
  },
  {
   "cell_type": "code",
   "execution_count": 7,
   "metadata": {},
   "outputs": [
    {
     "name": "stdout",
     "output_type": "stream",
     "text": [
      "[[0. 1. 2.]\n",
      " [3. 4. 5.]] \n",
      "\n",
      "[0. 1. 2.] \n",
      "\n",
      "[1. 2.] \n",
      "\n",
      "[[3. 4. 5.]\n",
      " [0. 1. 2.]] \n",
      "\n",
      "[[2. 1. 0.]\n",
      " [5. 4. 3.]] \n",
      "\n",
      "[[5. 4. 3.]\n",
      " [2. 1. 0.]] \n",
      "\n",
      "[[0. 3.]\n",
      " [1. 4.]\n",
      " [2. 5.]] \n",
      "\n",
      "15.0 \n",
      "\n",
      "[3. 5. 7.] \n",
      "\n",
      "[ 3. 12.] \n",
      "\n"
     ]
    }
   ],
   "source": [
    "# 创建数组\n",
    "x = np.array([[0., 1., 2.], [3., 4., 5.]])\n",
    "print(x, \"\\n\")\n",
    "\n",
    "# 索引\n",
    "# 不同维度通过逗号隔开\n",
    "# ::-1 表示倒置\n",
    "# ... 用以省略前面或后面所有维度\n",
    "print(x[0], \"\\n\")\n",
    "print(x[0, 1:], \"\\n\")\n",
    "print(x[::-1], \"\\n\")\n",
    "print(x[..., ::-1], \"\\n\")\n",
    "print(x[::-1, ::-1], \"\\n\")\n",
    "\n",
    "# 二维矩阵的转置\n",
    "print(x.T, \"\\n\")\n",
    "\n",
    "# sum, mean等\n",
    "print(x.sum(), \"\\n\")\n",
    "print(x.sum(axis=0), \"\\n\")\n",
    "print(x.sum(axis=-1), \"\\n\")"
   ]
  }
 ],
 "metadata": {
  "kernelspec": {
   "display_name": "Python 3",
   "language": "python",
   "name": "python3"
  },
  "language_info": {
   "codemirror_mode": {
    "name": "ipython",
    "version": 3
   },
   "file_extension": ".py",
   "mimetype": "text/x-python",
   "name": "python",
   "nbconvert_exporter": "python",
   "pygments_lexer": "ipython3",
   "version": "3.7.3"
  }
 },
 "nbformat": 4,
 "nbformat_minor": 2
}
