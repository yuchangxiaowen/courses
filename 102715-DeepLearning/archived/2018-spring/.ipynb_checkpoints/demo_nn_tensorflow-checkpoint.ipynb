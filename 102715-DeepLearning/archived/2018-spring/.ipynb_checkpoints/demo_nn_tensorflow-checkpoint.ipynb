{
 "cells": [
  {
   "cell_type": "code",
   "execution_count": 1,
   "metadata": {},
   "outputs": [
    {
     "name": "stderr",
     "output_type": "stream",
     "text": [
      "/media/kaitopia/3-software/anaconda3/lib/python3.6/importlib/_bootstrap.py:219: RuntimeWarning: compiletime version 3.5 of module 'tensorflow.python.framework.fast_tensor_util' does not match runtime version 3.6\n",
      "  return f(*args, **kwds)\n"
     ]
    }
   ],
   "source": [
    "import tensorflow as tf\n",
    "import numpy as np\n",
    "import time\n",
    "import matplotlib.pyplot as plt\n",
    "import tqdm\n",
    "import math\n",
    "\n",
    "%matplotlib inline\n",
    "\n",
    "%load_ext autoreload\n",
    "%autoreload 2"
   ]
  },
  {
   "cell_type": "code",
   "execution_count": 2,
   "metadata": {
    "collapsed": true
   },
   "outputs": [],
   "source": [
    "def gen_data(n, test, plot=False, dim=2):\n",
    "    assert dim >= 2\n",
    "    train_x = []\n",
    "    train_y = []\n",
    "    test_x = []\n",
    "    test_y = []\n",
    "    n_test = int(n * test)\n",
    "    n_train = n - n_test\n",
    "\n",
    "    for i in range(n_train):\n",
    "        theta = np.random.random() * 2 * np.pi\n",
    "        tmp = np.random.random() * 2\n",
    "        r = np.sqrt(tmp if tmp <=1 else tmp + 1)\n",
    "        train_x.append([r * np.sin(theta), r * np.cos(theta)] + list(np.random.randn(dim - 2)))\n",
    "        train_y.append(1 if r <= 1 else 0)\n",
    "\n",
    "    for i in range(n_test):\n",
    "        theta = np.random.random() * 2 * np.pi\n",
    "        tmp = np.random.random() * 2\n",
    "        r = np.sqrt(tmp if tmp <=1 else tmp + 1)\n",
    "        test_x.append([r * np.sin(theta), r * np.cos(theta)] + list(np.random.randn(dim - 2)))\n",
    "        test_y.append(1 if r <= 1 else 0)\n",
    "\n",
    "    train_x = np.array(train_x)\n",
    "    train_y = np.array(train_y)\n",
    "    test_x = np.array(test_x)\n",
    "    test_y = np.array(test_y)\n",
    "\n",
    "    if plot:\n",
    "        plt.figure()\n",
    "        show_data(train_x, train_y, title=\"training data\")\n",
    "        show_data(test_x, test_y, title=\"testing data\")\n",
    "\n",
    "    tmp = train_y.copy()\n",
    "    train_y = np.zeros((tmp.shape[0], 2))\n",
    "    train_y[np.arange(tmp.shape[0]), tmp] = 1\n",
    "\n",
    "    tmp = test_y.copy()\n",
    "    test_y = np.zeros((tmp.shape[0], 2))\n",
    "    test_y[np.arange(tmp.shape[0]), tmp] = 1\n",
    "\n",
    "    return train_x, train_y, test_x, test_y\n",
    "\n",
    "def show_data(x, y, title):\n",
    "    label_1 = np.where(y == 1)\n",
    "    label_0 = np.where(y == 0)\n",
    "    plt.plot(x[label_0][:, 0], x[label_0][:, 1], \"*\")\n",
    "    plt.plot(x[label_1][:, 0], x[label_1][:, 1], \"*\")\n",
    "    plt.title(title)\n",
    "    plt.show()\n"
   ]
  },
  {
   "cell_type": "code",
   "execution_count": 3,
   "metadata": {
    "collapsed": true
   },
   "outputs": [],
   "source": [
    "def fc_layer(inputs, input_sz, output_sz, name=\"fc\"):\n",
    "    with tf.name_scope(name):\n",
    "        W = tf.get_variable('{}/W'.format(name), [input_sz, output_sz],\n",
    "#             initializer=tf.zeros_initializer()\n",
    "            initializer=tf.random_normal_initializer(stddev=1 / math.sqrt(input_sz))\n",
    "        )\n",
    "        b = tf.get_variable('{}/b'.format(name), [output_sz],\n",
    "            initializer=tf.zeros_initializer())\n",
    "        outputs = tf.tanh(tf.matmul(inputs, W) + b)\n",
    "        tf.summary.histogram(\"weights\", W)\n",
    "        tf.summary.histogram(\"biases\", b)\n",
    "        tf.summary.histogram(\"activations\", outputs)\n",
    "        return outputs\n",
    "        \n",
    "def build_model(input_sz, num_classes, lr_rate, reg_strength):\n",
    "    hidden_sz_1 = 4\n",
    "    hidden_sz_2 = 2\n",
    "    x = tf.placeholder(tf.float32, [None, input_sz], name=\"x\")\n",
    "    y = tf.placeholder(tf.float32, [None, num_classes], name=\"labels\")\n",
    "    fc1 = fc_layer(x, input_sz, hidden_sz_1, name=\"fc1\")\n",
    "    fc2 = fc_layer(fc1, hidden_sz_1, hidden_sz_2, name=\"fc2\")\n",
    "    score = fc_layer(fc2, hidden_sz_2, num_classes, name=\"fc3\")\n",
    "    with tf.name_scope(\"loss\"):\n",
    "        with tf.name_scope(\"cross_entropy\"):\n",
    "            xent = tf.reduce_mean(\n",
    "                tf.nn.softmax_cross_entropy_with_logits(logits=score, labels=y)\n",
    "            )\n",
    "        with tf.name_scope(\"l2_regularization\"):\n",
    "            l2s = []\n",
    "            for name in [\"fc1\", \"fc2\", \"fc3\"]:\n",
    "                with tf.variable_scope(\"\", reuse=True):\n",
    "                    l2s.append(tf.nn.l2_loss(tf.get_variable(\"{}/W\".format(name))))\n",
    "            l2_loss = reg_strength * tf.add_n(l2s)\n",
    "        loss = xent + l2_loss\n",
    "\n",
    "    with tf.name_scope(\"train\"):\n",
    "        train_step = tf.train.GradientDescentOptimizer(\n",
    "            learning_rate=lr_rate).minimize(loss)\n",
    "    with tf.name_scope(\"accuracy\"):\n",
    "        correct_prediction = tf.equal(tf.argmax(score, 1), tf.argmax(y, 1))\n",
    "        accuracy = tf.reduce_mean(tf.cast(correct_prediction, tf.float32))\n",
    "    tf.summary.scalar(\"loss\", loss)\n",
    "    tf.summary.scalar(\"accuracy\", accuracy)\n",
    "    merged_summary = tf.summary.merge_all()\n",
    "\n",
    "    return x, y, train_step, loss, accuracy, merged_summary"
   ]
  },
  {
   "cell_type": "code",
   "execution_count": 4,
   "metadata": {},
   "outputs": [
    {
     "data": {
      "image/png": "[encoded data removed]",
      "text/plain": [
       "<matplotlib.figure.Figure at 0x7f56cdddbc18>"
      ]
     },
     "metadata": {},
     "output_type": "display_data"
    },
    {
     "data": {
      "image/png": "[encoded data removed]",
      "text/plain": [
       "<matplotlib.figure.Figure at 0x7f56cddeb1d0>"
      ]
     },
     "metadata": {},
     "output_type": "display_data"
    }
   ],
   "source": [
    "train_x, train_y, test_x, test_y = gen_data(n=500, test=.2, dim=10, plot=True)\n",
    "input_x, input_y, train_op, loss, acc, merged_summary = build_model(\n",
    "    input_sz=train_x.shape[1], num_classes=train_y.shape[1], lr_rate=.3, reg_strength=1e-2)\n",
    "n_epoch = 100\n",
    "batch_sz = 10\n",
    "init = tf.global_variables_initializer()\n",
    "losses = []"
   ]
  },
  {
   "cell_type": "code",
   "execution_count": 5,
   "metadata": {},
   "outputs": [
    {
     "name": "stderr",
     "output_type": "stream",
     "text": [
      "100%|██████████| 100/100 [00:08<00:00, 12.25it/s]"
     ]
    },
    {
     "name": "stdout",
     "output_type": "stream",
     "text": [
      "Test accuracy is 0.970000.\n"
     ]
    },
    {
     "name": "stderr",
     "output_type": "stream",
     "text": [
      "\n"
     ]
    }
   ],
   "source": [
    "# tensorboard --logdir tmp/deep_learning_demo/...\n",
    "writer = tf.summary.FileWriter(\"tmp/deep_learning_demo/{}\".format(\n",
    "    time.strftime(\"%Y-%m-%d-%H-%M-%S\", time.localtime())\n",
    "))\n",
    "with tf.Session() as sess:\n",
    "    writer.add_graph(sess.graph)\n",
    "    sess.run(init)\n",
    "    for i in tqdm.tqdm(range(n_epoch)):\n",
    "        idx = np.random.permutation(train_x.shape[0])\n",
    "        iters = int(train_x.shape[0] / batch_sz)\n",
    "        batch_losses = []\n",
    "        for j in range(iters):\n",
    "            batch_xs, batch_ys = (\n",
    "                train_x[idx[j * batch_sz: (j + 1) * batch_sz]],\n",
    "                train_y[idx[j * batch_sz: (j + 1) * batch_sz]])\n",
    "            res = sess.run([loss, train_op],\n",
    "                feed_dict={input_x: batch_xs, input_y: batch_ys})\n",
    "            batch_losses.append(res[0])\n",
    "        losses.append(sum(batch_losses) / len(batch_losses))\n",
    "        s = sess.run(merged_summary,\n",
    "                feed_dict={input_x: batch_xs, input_y: batch_ys})\n",
    "        writer.add_summary(s, i)\n",
    "    test_acc = sess.run(acc, feed_dict={input_x: test_x, input_y: test_y})\n",
    "    print(\"Test accuracy is %f.\" % test_acc)\n"
   ]
  }
 ],
 "metadata": {
  "kernelspec": {
   "display_name": "Python 3",
   "language": "python",
   "name": "python3"
  },
  "language_info": {
   "codemirror_mode": {
    "name": "ipython",
    "version": 3
   },
   "file_extension": ".py",
   "mimetype": "text/x-python",
   "name": "python",
   "nbconvert_exporter": "python",
   "pygments_lexer": "ipython3",
   "version": "3.7.3"
  }
 },
 "nbformat": 4,
 "nbformat_minor": 2
}
