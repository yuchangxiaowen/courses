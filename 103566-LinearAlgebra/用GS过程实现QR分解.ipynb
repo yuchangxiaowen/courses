{
 "cells": [
  {
   "cell_type": "code",
   "execution_count": 1,
   "metadata": {},
   "outputs": [],
   "source": [
    "import numpy as np\n",
    "import scipy.sparse as sp"
   ]
  },
  {
   "cell_type": "markdown",
   "metadata": {},
   "source": [
    "为方便叙述，我们先假定矩阵$A = (a_1, a_2, \\cdots, a_n)$是列满秩的。由GS过程我们知道分解过程如下：\n",
    "1. $R_{11} \\leftarrow \\|a_1\\|_2$\n",
    "2. $q_1 \\leftarrow \\frac{a_1}{R_{11}}$\n",
    "3. for $i = 2, \\cdots, n$:\n",
    "    1. $R_{ji} \\leftarrow a_i^\\top q_j$ for $j = 1, \\cdots, i-1$\n",
    "    2. $q_i \\leftarrow a_i - \\sum_{j=1}^{i-1} R_{ji}q_j$\n",
    "    3. $R_{ii} \\leftarrow \\|q_i\\|_2$\n",
    "    4. $q_i \\leftarrow \\frac{q_i}{R_{i}}$\n",
    "\n",
    "在数学上，以上算法是没有问题的。但在实际操作层面，由于计算机能表示的精度有限，在计算投影的时候以上算法会存在较大的数值问题，即$q_i, q_j$的相互垂直性由于浮点运算而产生较大偏离。在矩阵$A$接近于不满秩的时候，这个问题尤为严重。一个巧妙的降低最终浮点运算误差的方法是更换计算次序，从而使得计算投影时产生的误差不会被反复累加，具体过程如下：\n",
    "1. $R_{11} \\leftarrow \\|a_1\\|_2$\n",
    "2. $q_1 \\leftarrow \\frac{a_1}{R_{11}}$\n",
    "3. for $i = 2, \\cdots, n$\n",
    "    1. $q_i \\leftarrow a_i$\n",
    "    2. for $j = 1, \\cdots, i - 1$:\n",
    "        1. $R_{ji} \\leftarrow q_i^\\top q_j$\n",
    "        2. $q_i \\leftarrow q_i - R_{ji}q_j$\n",
    "    3. $R_{ii} \\leftarrow \\|q_i\\|_2$\n",
    "    4. $q_i \\leftarrow \\frac{q_i}{R_{i}}$\n",
    "\n",
    "我们将第一个算法称为Classical Gram-Schmidt(cgs)，第二个算法称为Modified Gram-Schmidt(mgs)。\n",
    "\n",
    "下面的代码实现的是对一般的矩阵$A$（不需要列满秩）实现reduced form QR分解。"
   ]
  },
  {
   "cell_type": "code",
   "execution_count": 2,
   "metadata": {},
   "outputs": [],
   "source": [
    "def qr(A, method, reduced=True):\n",
    "    eps = 1e-8\n",
    "    m, n = A.shape\n",
    "    AT = A.T\n",
    "    if not reduced:\n",
    "        raise NotImplementedError\n",
    "    if method == \"cgs\":\n",
    "        q = None\n",
    "        r_row, r_col, r_data = [], [], []\n",
    "\n",
    "        for i in range(n):\n",
    "            if q is None:\n",
    "                rii = (AT[i] * AT[i]).sum() ** .5\n",
    "                if rii > eps:\n",
    "                    r_row.append(0)\n",
    "                    r_col.append(i)\n",
    "                    r_data.append(rii)\n",
    "                    q = AT[i] / rii\n",
    "            else:\n",
    "                rji = q.dot(AT[i])\n",
    "                qi = AT[i] - q.T.dot(rji)\n",
    "                rii = (qi * qi).sum() ** .5\n",
    "                length = len(rji) if len(rji.shape) > 0 else 1\n",
    "                rs = list(rji) if length > 1 else [rji]\n",
    "                if rii > eps:\n",
    "                    r_row.extend(list(range(length + 1)))\n",
    "                    r_col.extend([i] * (length + 1))\n",
    "                    r_data.extend(rs + [rii])\n",
    "                    q = np.vstack((q, qi / rii))\n",
    "                else:\n",
    "                    r_row.extend(list(range(length)))\n",
    "                    r_col.extend([i] * length)\n",
    "                    r_data.extend(rs)\n",
    "        R = sp.coo_matrix(\n",
    "            (r_data, (r_row, r_col)),\n",
    "            shape=(len(q), n)\n",
    "        ).toarray()\n",
    "        Q = q.T\n",
    "        return Q, R\n",
    "    elif method == \"mgs\":\n",
    "        qlist = []\n",
    "        r_row, r_col, r_data = [], [], []\n",
    "\n",
    "        for i in range(n):\n",
    "            qi = AT[i]\n",
    "            Rjilist = []\n",
    "            for q in qlist:\n",
    "                Rji = qi.dot(q)\n",
    "                Rjilist.append(Rji)\n",
    "                qi = qi - Rji * q\n",
    "            r_row.extend(list(range(len(Rjilist))))\n",
    "            r_col.extend([i] * len(Rjilist))\n",
    "            r_data.extend(Rjilist)\n",
    "            rii = (qi * qi).sum() ** .5\n",
    "            if rii > eps:\n",
    "                r_row.append(len(Rjilist))\n",
    "                r_col.append(i)\n",
    "                r_data.append(rii)\n",
    "                qlist.append(qi / rii)\n",
    "        R = sp.coo_matrix(\n",
    "            (r_data, (r_row, r_col)),\n",
    "            shape=(len(qlist), n)\n",
    "        ).toarray()\n",
    "        Q = np.asarray(qlist).T\n",
    "        return Q, R\n",
    "    else:\n",
    "        raise NotImplementedError"
   ]
  },
  {
   "cell_type": "markdown",
   "metadata": {},
   "source": [
    "下面一个例子可以直观感受到GS过程中的数值问题。\n",
    "\n",
    "我们首先产生一个高度奇异的矩阵$A$（每一列都是相同的向量加上一个小的随机扰动），然后对其进行QR分解。"
   ]
  },
  {
   "cell_type": "code",
   "execution_count": 3,
   "metadata": {},
   "outputs": [],
   "source": [
    "A = np.random.randn(30, 20) * 1e-6 + np.arange(20)\n",
    "Q1, R1 = qr(A, method=\"cgs\")\n",
    "Q2, R2 = qr(A, method=\"mgs\")"
   ]
  },
  {
   "cell_type": "markdown",
   "metadata": {},
   "source": [
    "我们令\n",
    "- decomp err = $\\max_{i,j} |A_{ij} - (QR)_{ij}|$，用来表示分解之后和原矩阵的差异\n",
    "- orthogonal err = $\\max_{i,j} |I_{ij} - (Q^\\top Q)_{ij}|$，用来表示分解之后矩阵$Q$对单位正交性的偏离\n",
    "\n",
    "结果如下，mgs算法使得正交性数值问题得到缓解。"
   ]
  },
  {
   "cell_type": "code",
   "execution_count": 4,
   "metadata": {},
   "outputs": [
    {
     "name": "stdout",
     "output_type": "stream",
     "text": [
      "cgs decomp err = 1.066e-14\n",
      "mgs decomp err = 7.105e-15\n",
      "cgs orthogonal err = 3.874e-02\n",
      "mgs orthogonal err = 3.176e-09\n"
     ]
    }
   ],
   "source": [
    "print(\"cgs decomp err = {:.3e}\".format(\n",
    "    np.abs(A - Q1.dot(R1)).max()))\n",
    "print(\"mgs decomp err = {:.3e}\".format(\n",
    "    np.abs(A - Q2.dot(R2)).max()))\n",
    "print(\"cgs orthogonal err = {:.3e}\".format(\n",
    "    np.abs(Q1.T.dot(Q1) - np.eye(Q1.shape[1])).max()))\n",
    "print(\"mgs orthogonal err = {:.3e}\".format(\n",
    "    np.abs(Q2.T.dot(Q2) - np.eye(Q2.shape[1])).max()))"
   ]
  },
  {
   "cell_type": "markdown",
   "metadata": {},
   "source": [
    "事实上，由于GS过程需要计算投影而引入较大数值误差，在成熟算法库中不使用该算法进行QR分解。替代的算法有Householder、Givens等，本质上是用旋转来代替投影，来缓解数值问题。"
   ]
  }
 ],
 "metadata": {
  "kernelspec": {
   "display_name": "Python 3",
   "language": "python",
   "name": "python3"
  },
  "language_info": {
   "codemirror_mode": {
    "name": "ipython",
    "version": 3
   },
   "file_extension": ".py",
   "mimetype": "text/x-python",
   "name": "python",
   "nbconvert_exporter": "python",
   "pygments_lexer": "ipython3",
   "version": "3.7.3"
  }
 },
 "nbformat": 4,
 "nbformat_minor": 2
}
