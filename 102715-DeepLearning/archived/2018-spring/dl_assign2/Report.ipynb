{
 "cells": [
  {
   "cell_type": "code",
   "execution_count": 1,
   "metadata": {},
   "outputs": [],
   "source": [
    "%load_ext autoreload\n",
    "%autoreload 2"
   ]
  },
  {
   "cell_type": "markdown",
   "metadata": {},
   "source": [
    "## Build your own CNN"
   ]
  },
  {
   "cell_type": "markdown",
   "metadata": {},
   "source": [
    "### cnn bp check"
   ]
  },
  {
   "cell_type": "code",
   "execution_count": 2,
   "metadata": {},
   "outputs": [
    {
     "name": "stdout",
     "output_type": "stream",
     "text": [
      "w error: 2.893181819038535e-06\n",
      "b error: 1.2158072590023964e-08\n",
      "w error: 2.0301249481701182e-06\n",
      "b error: 1.6010942218121573e-08\n",
      "w error: 1.7062325353637395e-06\n",
      "b error: 1.1309880281009425e-10\n"
     ]
    }
   ],
   "source": [
    "%run test_grad.py"
   ]
  },
  {
   "cell_type": "markdown",
   "metadata": {},
   "source": [
    "### 100 samples fitting performance"
   ]
  },
  {
   "cell_type": "code",
   "execution_count": 3,
   "metadata": {},
   "outputs": [
    {
     "name": "stdout",
     "output_type": "stream",
     "text": [
      "(Iteration 1 / 2, epoch 1) loss: 2.406827, accu: 0.140000\n",
      "(Iteration 2 / 2, epoch 1) loss: 2.143319, accu: 0.180000\n",
      "(Iteration 1 / 2, epoch 2) loss: 2.239150, accu: 0.280000\n",
      "(Iteration 2 / 2, epoch 2) loss: 2.109183, accu: 0.180000\n",
      "(Iteration 1 / 2, epoch 3) loss: 1.832015, accu: 0.340000\n",
      "(Iteration 2 / 2, epoch 3) loss: 1.463740, accu: 0.480000\n",
      "(Iteration 1 / 2, epoch 4) loss: 1.536743, accu: 0.500000\n",
      "(Iteration 2 / 2, epoch 4) loss: 1.318061, accu: 0.560000\n",
      "(Iteration 1 / 2, epoch 5) loss: 2.264727, accu: 0.340000\n",
      "(Iteration 2 / 2, epoch 5) loss: 2.554452, accu: 0.300000\n",
      "(Iteration 1 / 2, epoch 6) loss: 1.816837, accu: 0.600000\n",
      "(Iteration 2 / 2, epoch 6) loss: 1.633359, accu: 0.540000\n",
      "(Iteration 1 / 2, epoch 7) loss: 1.640099, accu: 0.380000\n",
      "(Iteration 2 / 2, epoch 7) loss: 1.647981, accu: 0.580000\n",
      "(Iteration 1 / 2, epoch 8) loss: 1.651731, accu: 0.600000\n",
      "(Iteration 2 / 2, epoch 8) loss: 1.901291, accu: 0.340000\n",
      "(Iteration 1 / 2, epoch 9) loss: 1.495887, accu: 0.460000\n",
      "(Iteration 2 / 2, epoch 9) loss: 1.509534, accu: 0.540000\n",
      "(Iteration 1 / 2, epoch 10) loss: 1.415215, accu: 0.540000\n",
      "(Iteration 2 / 2, epoch 10) loss: 1.283796, accu: 0.480000\n",
      "(Iteration 1 / 2, epoch 11) loss: 1.359232, accu: 0.480000\n",
      "(Iteration 2 / 2, epoch 11) loss: 1.636813, accu: 0.440000\n",
      "(Iteration 1 / 2, epoch 12) loss: 1.572579, accu: 0.400000\n",
      "(Iteration 2 / 2, epoch 12) loss: 1.294404, accu: 0.540000\n",
      "(Iteration 1 / 2, epoch 13) loss: 2.479204, accu: 0.400000\n",
      "(Iteration 2 / 2, epoch 13) loss: 1.821432, accu: 0.440000\n",
      "(Iteration 1 / 2, epoch 14) loss: 1.124962, accu: 0.700000\n",
      "(Iteration 2 / 2, epoch 14) loss: 1.160553, accu: 0.620000\n",
      "(Iteration 1 / 2, epoch 15) loss: 1.298126, accu: 0.540000\n",
      "(Iteration 2 / 2, epoch 15) loss: 1.005849, accu: 0.620000\n",
      "(Iteration 1 / 2, epoch 16) loss: 1.345330, accu: 0.700000\n",
      "(Iteration 2 / 2, epoch 16) loss: 0.773874, accu: 0.860000\n",
      "(Iteration 1 / 2, epoch 17) loss: 0.758312, accu: 0.860000\n",
      "(Iteration 2 / 2, epoch 17) loss: 0.563596, accu: 0.860000\n",
      "(Iteration 1 / 2, epoch 18) loss: 0.475830, accu: 0.900000\n",
      "(Iteration 2 / 2, epoch 18) loss: 0.289380, accu: 0.940000\n",
      "(Iteration 1 / 2, epoch 19) loss: 0.162211, accu: 1.000000\n",
      "(Iteration 2 / 2, epoch 19) loss: 0.183022, accu: 0.940000\n",
      "(Iteration 1 / 2, epoch 20) loss: 0.186237, accu: 0.920000\n",
      "(Iteration 2 / 2, epoch 20) loss: 0.170523, accu: 0.960000\n",
      "(Iteration 1 / 2, epoch 21) loss: 0.111221, accu: 0.980000\n",
      "(Iteration 2 / 2, epoch 21) loss: 0.060268, accu: 1.000000\n",
      "(Iteration 1 / 2, epoch 22) loss: 0.054603, accu: 1.000000\n",
      "(Iteration 2 / 2, epoch 22) loss: 0.041953, accu: 1.000000\n",
      "(Iteration 1 / 2, epoch 23) loss: 0.053615, accu: 0.980000\n",
      "(Iteration 2 / 2, epoch 23) loss: 0.056181, accu: 0.980000\n",
      "(Iteration 1 / 2, epoch 24) loss: 0.032147, accu: 1.000000\n",
      "(Iteration 2 / 2, epoch 24) loss: 0.034847, accu: 1.000000\n",
      "(Iteration 1 / 2, epoch 25) loss: 0.022722, accu: 1.000000\n",
      "(Iteration 2 / 2, epoch 25) loss: 0.015686, accu: 1.000000\n",
      "(Iteration 1 / 2, epoch 26) loss: 0.040239, accu: 1.000000\n",
      "(Iteration 2 / 2, epoch 26) loss: 0.029252, accu: 1.000000\n",
      "(Iteration 1 / 2, epoch 27) loss: 0.020283, accu: 1.000000\n",
      "(Iteration 2 / 2, epoch 27) loss: 0.017360, accu: 1.000000\n",
      "(Iteration 1 / 2, epoch 28) loss: 0.030884, accu: 1.000000\n",
      "(Iteration 2 / 2, epoch 28) loss: 0.018949, accu: 1.000000\n",
      "(Iteration 1 / 2, epoch 29) loss: 0.013084, accu: 1.000000\n",
      "(Iteration 2 / 2, epoch 29) loss: 0.010514, accu: 1.000000\n",
      "(Iteration 1 / 2, epoch 30) loss: 0.013147, accu: 1.000000\n",
      "(Iteration 2 / 2, epoch 30) loss: 0.012075, accu: 1.000000\n",
      "(Iteration 1 / 2, epoch 31) loss: 0.009708, accu: 1.000000\n",
      "(Iteration 2 / 2, epoch 31) loss: 0.006665, accu: 1.000000\n",
      "(Iteration 1 / 2, epoch 32) loss: 0.007992, accu: 1.000000\n",
      "(Iteration 2 / 2, epoch 32) loss: 0.008755, accu: 1.000000\n",
      "(Iteration 1 / 2, epoch 33) loss: 0.008569, accu: 1.000000\n",
      "(Iteration 2 / 2, epoch 33) loss: 0.008002, accu: 1.000000\n",
      "(Iteration 1 / 2, epoch 34) loss: 0.009383, accu: 1.000000\n",
      "(Iteration 2 / 2, epoch 34) loss: 0.009182, accu: 1.000000\n",
      "(Iteration 1 / 2, epoch 35) loss: 0.006063, accu: 1.000000\n",
      "(Iteration 2 / 2, epoch 35) loss: 0.008658, accu: 1.000000\n",
      "(Iteration 1 / 2, epoch 36) loss: 0.009523, accu: 1.000000\n",
      "(Iteration 2 / 2, epoch 36) loss: 0.004184, accu: 1.000000\n",
      "(Iteration 1 / 2, epoch 37) loss: 0.007480, accu: 1.000000\n",
      "(Iteration 2 / 2, epoch 37) loss: 0.005746, accu: 1.000000\n",
      "(Iteration 1 / 2, epoch 38) loss: 0.005485, accu: 1.000000\n",
      "(Iteration 2 / 2, epoch 38) loss: 0.004734, accu: 1.000000\n",
      "(Iteration 1 / 2, epoch 39) loss: 0.003823, accu: 1.000000\n",
      "(Iteration 2 / 2, epoch 39) loss: 0.005662, accu: 1.000000\n",
      "(Iteration 1 / 2, epoch 40) loss: 0.006046, accu: 1.000000\n",
      "(Iteration 2 / 2, epoch 40) loss: 0.003715, accu: 1.000000\n",
      "(Iteration 1 / 2, epoch 41) loss: 0.005080, accu: 1.000000\n",
      "(Iteration 2 / 2, epoch 41) loss: 0.005319, accu: 1.000000\n",
      "(Iteration 1 / 2, epoch 42) loss: 0.004960, accu: 1.000000\n",
      "(Iteration 2 / 2, epoch 42) loss: 0.004951, accu: 1.000000\n",
      "(Iteration 1 / 2, epoch 43) loss: 0.005452, accu: 1.000000\n",
      "(Iteration 2 / 2, epoch 43) loss: 0.004279, accu: 1.000000\n",
      "(Iteration 1 / 2, epoch 44) loss: 0.003470, accu: 1.000000\n",
      "(Iteration 2 / 2, epoch 44) loss: 0.005497, accu: 1.000000\n",
      "(Iteration 1 / 2, epoch 45) loss: 0.003294, accu: 1.000000\n",
      "(Iteration 2 / 2, epoch 45) loss: 0.002854, accu: 1.000000\n",
      "(Iteration 1 / 2, epoch 46) loss: 0.003996, accu: 1.000000\n",
      "(Iteration 2 / 2, epoch 46) loss: 0.004173, accu: 1.000000\n",
      "(Iteration 1 / 2, epoch 47) loss: 0.002784, accu: 1.000000\n",
      "(Iteration 2 / 2, epoch 47) loss: 0.004074, accu: 1.000000\n",
      "(Iteration 1 / 2, epoch 48) loss: 0.004985, accu: 1.000000\n",
      "(Iteration 2 / 2, epoch 48) loss: 0.003681, accu: 1.000000\n",
      "(Iteration 1 / 2, epoch 49) loss: 0.003547, accu: 1.000000\n",
      "(Iteration 2 / 2, epoch 49) loss: 0.004224, accu: 1.000000\n",
      "(Iteration 1 / 2, epoch 50) loss: 0.002989, accu: 1.000000\n",
      "(Iteration 2 / 2, epoch 50) loss: 0.003519, accu: 1.000000\n",
      "Validation loss: 4.906938, accu: 0.217000\n"
     ]
    }
   ],
   "source": [
    "%run train_small.py"
   ]
  },
  {
   "cell_type": "markdown",
   "metadata": {},
   "source": [
    "Note that training accuracy has already been 100%, while validation accuracy is just 21.7%, training data has been overfitted."
   ]
  },
  {
   "cell_type": "markdown",
   "metadata": {},
   "source": [
    "## Acceleration"
   ]
  },
  {
   "cell_type": "markdown",
   "metadata": {},
   "source": [
    "### profiling"
   ]
  },
  {
   "cell_type": "markdown",
   "metadata": {},
   "source": [
    "We run `python -m cProfile -s cumulative train_small.py` to train 20 epochs without validation.\n",
    "The result is shown below\n",
    "\n",
    "```\n",
    "   ncalls  tottime  percall  cumtime  percall function\n",
    "       40    4.360    0.109  112.091    2.802 Conv(backward)\n",
    "       40    1.221    0.031   82.395    2.060 Conv(forward)\n",
    "       40    0.668    0.017    2.400    0.060 MaxPool(backward)\n",
    "       40    0.072    0.002    0.658    0.016 MaxPool(forward)\n",
    "       80    0.124    0.002    0.124    0.002 Relu(backward)\n",
    "       80    0.101    0.001    0.101    0.001 Relu(forward)\n",
    "       80    0.001    0.000    0.071    0.001 Linear(backward)\n",
    "       80    0.002    0.000    0.034    0.000 Linear(forward)\n",
    "```\n",
    "\n",
    "`ncalls` means number of times the function is called\n",
    "\n",
    "`tottime` means total seconds spent in the given function (and excluding time made in calls to sub-functions), followed by `percall` which is `tottime` divided by `ncalls`.\n",
    "\n",
    "`cumtime` means the cumulative seconds spent in this and all subfunctions, followed by `percall` which is `cumtime` divided by `ncalls`.\n",
    "\n",
    "We focus on `cumtime`. Obviously, convolution layer is computationally expensive."
   ]
  },
  {
   "cell_type": "markdown",
   "metadata": {},
   "source": [
    "### numba accelaration"
   ]
  },
  {
   "cell_type": "markdown",
   "metadata": {},
   "source": [
    "Then run `python -m cProfile -s cumulative train_small.py --numba` to train 20 epochs without validation.\n",
    "The result is shown below\n",
    "\n",
    "```\n",
    "   ncalls  tottime  percall  cumtime  percall function\n",
    "       40    0.001    0.000    3.762    0.094 Conv(backward)\n",
    "       40    0.777    0.019    2.943    0.074 MaxPool(backward)\n",
    "       40    0.074    0.002    2.255    0.056 MaxPool(forward)\n",
    "       40    0.042    0.001    1.850    0.046 Conv(forward)\n",
    "       80    0.260    0.003    0.260    0.003 Relu(forward)\n",
    "       80    0.235    0.003    0.235    0.003 Relu(backward)\n",
    "       80    0.001    0.000    0.056    0.001 Linear(backward)\n",
    "       80    0.002    0.000    0.027    0.000 Linear(forward)\n",
    "\n",
    "```\n",
    "\n",
    "In convolution layer,\n",
    "backward operation drops from 2.802 seconds to 0.094 seconds per call, enjoying a 2980% acceleration;\n",
    "forward operation drops from 2.060 seconds to 0.046 seconds per call, enjoying a 4478% acceleration."
   ]
  },
  {
   "cell_type": "markdown",
   "metadata": {},
   "source": [
    "## CNN on standard deep learning architecture"
   ]
  },
  {
   "cell_type": "markdown",
   "metadata": {},
   "source": [
    "### efficiency comparison"
   ]
  },
  {
   "cell_type": "code",
   "execution_count": 25,
   "metadata": {},
   "outputs": [
    {
     "name": "stdout",
     "output_type": "stream",
     "text": [
      "Validation loss: 4.790364, accu: 0.197000\n",
      "Self-written code: time cost = 31.103657722473145\n",
      "Validation loss: 2.456287, accu: 0.120000\n",
      "tf code: time cost = 2.600090265274048\n"
     ]
    }
   ],
   "source": [
    "import time\n",
    "\n",
    "tstart = time.time()\n",
    "%run train_small.py --numba --no-verbose\n",
    "tcost = time.time() - tstart\n",
    "print(\"Self-written code: time cost = {}\".format(tcost))\n",
    "\n",
    "tstart = time.time()\n",
    "%run tf_cnn.py --config=small\n",
    "tcost = time.time() - tstart\n",
    "print(\"tf code: time cost = {}\".format(tcost))"
   ]
  },
  {
   "cell_type": "markdown",
   "metadata": {},
   "source": [
    "Note that tf with cuda acceleration is much faster than our numba accelerated code."
   ]
  },
  {
   "cell_type": "markdown",
   "metadata": {},
   "source": [
    "### improvement of generalization performance"
   ]
  },
  {
   "cell_type": "code",
   "execution_count": 8,
   "metadata": {},
   "outputs": [
    {
     "name": "stderr",
     "output_type": "stream",
     "text": [
      "100%|██████████| 1000/1000 [29:06<00:00,  1.75s/it]\n"
     ]
    },
    {
     "name": "stdout",
     "output_type": "stream",
     "text": [
      "Test loss: 2.302635, accu: 0.100000\n"
     ]
    },
    {
     "name": "stderr",
     "output_type": "stream",
     "text": [
      "100%|██████████| 1000/1000 [56:17<00:00,  3.38s/it]\n"
     ]
    },
    {
     "name": "stdout",
     "output_type": "stream",
     "text": [
      "Test loss: 6.492413, accu: 0.639700\n"
     ]
    },
    {
     "name": "stderr",
     "output_type": "stream",
     "text": [
      "100%|██████████| 1000/1000 [50:09<00:00,  3.01s/it]\n"
     ]
    },
    {
     "name": "stdout",
     "output_type": "stream",
     "text": [
      "Test loss: 3330.994873, accu: 0.510400\n"
     ]
    }
   ],
   "source": [
    "%run tf_cnn.py --config=raw\n",
    "%run tf_cnn.py --config=2conv\n",
    "%run tf_cnn.py --config=2linear"
   ]
  },
  {
   "cell_type": "markdown",
   "metadata": {},
   "source": [
    "![training accuarcy](./images/train_acc.png)\n",
    "![validation accuarcy](./images/val_acc.png)"
   ]
  },
  {
   "cell_type": "markdown",
   "metadata": {},
   "source": [
    "We first train the original cnn. Then train a two-conv-one-linear and a one-conv-two-linear respectively. What's more during training we use 49,000 data; during validation we use 1,000 data; during testing, we use 10,000 data.\n",
    "\n",
    "The result is shown above, where orange stands for original cnn, blue stands for two-conv-one-linear net and red stands for one-conv-two-linear net.\n",
    "\n",
    "The original cnn underfits under 1000 epochs, therefore whatever training, validation and testing metrics are very bad.\n",
    "\n",
    "The two-conv-one-linear net converges very fast in training data, and enjoy over 60% accuracy in both validation data and testing data, which is the highest among the three.\n",
    "\n",
    "The one-conv-two-linear net also converges fast, yet the the three accuarcy are all lower than two-conv-one-linear net. Though, it's still better than the original net.\n",
    "\n",
    "To conclude, after modifying the network structure, generalization performance, as described with testing accuracy, is improved from 10% to 64.0%."
   ]
  },
  {
   "cell_type": "markdown",
   "metadata": {},
   "source": [
    "### different optimizers comparison"
   ]
  },
  {
   "cell_type": "code",
   "execution_count": 6,
   "metadata": {},
   "outputs": [
    {
     "name": "stderr",
     "output_type": "stream",
     "text": [
      "100%|██████████| 50/50 [00:24<00:00,  2.03it/s]\n",
      "100%|██████████| 50/50 [00:22<00:00,  2.21it/s]\n",
      "100%|██████████| 50/50 [00:24<00:00,  2.06it/s]\n"
     ]
    },
    {
     "data": {
      "image/png": "[encoded data removed]",
      "text/plain": [
       "<Figure size 432x288 with 1 Axes>"
      ]
     },
     "metadata": {},
     "output_type": "display_data"
    },
    {
     "data": {
      "image/png": "[encoded data removed]",
      "text/plain": [
       "<Figure size 432x288 with 1 Axes>"
      ]
     },
     "metadata": {},
     "output_type": "display_data"
    },
    {
     "name": "stdout",
     "output_type": "stream",
     "text": [
      "Optimizer: sgd, val loss = 4.7903643888078395, val acc = 0.197\n",
      "Optimizer: momentum, val loss = 2.444997828501731, val acc = 0.119\n",
      "Optimizer: adam, val loss = 7.252304020664882, val acc = 0.229\n"
     ]
    }
   ],
   "source": [
    "%matplotlib inline\n",
    "%run train_optimizer.py"
   ]
  },
  {
   "cell_type": "markdown",
   "metadata": {},
   "source": [
    "As shown above, adam not only converges faster, but also has a better validation accuracy."
   ]
  }
 ],
 "metadata": {
  "kernelspec": {
   "display_name": "Python 3",
   "language": "python",
   "name": "python3"
  },
  "language_info": {
   "codemirror_mode": {
    "name": "ipython",
    "version": 3
   },
   "file_extension": ".py",
   "mimetype": "text/x-python",
   "name": "python",
   "nbconvert_exporter": "python",
   "pygments_lexer": "ipython3",
   "version": "3.6.5"
  }
 },
 "nbformat": 4,
 "nbformat_minor": 2
}
