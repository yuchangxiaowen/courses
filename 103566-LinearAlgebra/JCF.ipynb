{
 "cells": [
  {
   "cell_type": "code",
   "execution_count": 1,
   "metadata": {},
   "outputs": [],
   "source": [
    "import numpy as np\n",
    "import scipy.linalg\n",
    "import scipy.sparse as sp"
   ]
  },
  {
   "cell_type": "code",
   "execution_count": 2,
   "metadata": {},
   "outputs": [],
   "source": [
    "def jcf(A):\n",
    "    n = len(A)\n",
    "    W = []\n",
    "    S = []\n",
    "    P = []\n",
    "    J_rows = []\n",
    "    J_cols = []\n",
    "    J_vals = []\n",
    "    diag_ptr = 0\n",
    "    eigvals, cnts = np.unique(\n",
    "        np.round(np.linalg.eigvals(A), decimals=6),\n",
    "        return_counts=True)\n",
    "    for eigval, cnt in zip(eigvals, cnts):\n",
    "        mat = eigval * np.eye(n) - A\n",
    "        S = scipy.linalg.null_space(mat)\n",
    "        basis_nums = [S.shape[1]]\n",
    "        mats = [mat]\n",
    "        while basis_nums[-1] < cnt:\n",
    "            mat = (eigval * np.eye(n) - A).dot(mat)\n",
    "            mats.append(mat)\n",
    "            S, _ = np.linalg.qr(np.hstack(\n",
    "                (S, scipy.linalg.null_space(mat))))\n",
    "            S = S[:, np.where(np.all(\n",
    "                np.abs(mat.dot(S)) < 1e-6, axis=0))[0]]\n",
    "            basis_nums.append(S.shape[1])\n",
    "        basis_nums_arr = np.array(basis_nums)\n",
    "        block_sz_atleast = np.insert(\n",
    "            basis_nums_arr[1: ] - basis_nums_arr[: -1],\n",
    "            0, basis_nums_arr[0])\n",
    "        block_sz = np.insert(\n",
    "            block_sz_atleast[: -1] - block_sz_atleast[1: ],\n",
    "            len(block_sz_atleast) - 1, block_sz_atleast[-1])\n",
    "        k = len(block_sz)\n",
    "        basis_nums.insert(0, 0)\n",
    "        for i, sz in enumerate(np.flip(block_sz)):\n",
    "            if i == 0:\n",
    "                assert sz == \\\n",
    "                    basis_nums[k - i] - basis_nums[k - 1 - i]\n",
    "                T = S[:, basis_nums[k - 1 - i]: ]\n",
    "                for idx in range(basis_nums[k - 1 - i],\n",
    "                                 basis_nums[k - i]):\n",
    "                    v = S[:, idx]\n",
    "                    P_reverse = []\n",
    "                    for j in range(k - i):\n",
    "                        P_reverse.append(v)\n",
    "                        v = mats[0].dot(v)\n",
    "                        if j == 0:\n",
    "                            J_rows.append(diag_ptr)\n",
    "                            J_cols.append(diag_ptr)\n",
    "                            J_vals.append(eigval)\n",
    "                        else:\n",
    "                            J_rows.extend([diag_ptr - 1, diag_ptr])\n",
    "                            J_cols.extend([diag_ptr, diag_ptr])\n",
    "                            J_vals.extend([-1, eigval])\n",
    "                        diag_ptr += 1\n",
    "                    P_reverse.reverse()\n",
    "                    P.extend(P_reverse)\n",
    "            else:\n",
    "                num_pre_basis = T.shape[1]\n",
    "\n",
    "                T, _ = np.linalg.qr(np.hstack((\n",
    "                    mats[0].dot(T),\n",
    "                    S[:, basis_nums[k - 1 - i]: basis_nums[k - i]]\n",
    "                )))\n",
    "                T = T[:, np.where(np.all(\n",
    "                    np.abs(mats[k - i - 1].dot(T)) < 1e-6,\n",
    "                    axis=0))[0]]\n",
    "\n",
    "                assert sz == T.shape[1] - num_pre_basis\n",
    "                for idx in range(num_pre_basis, T.shape[1]):\n",
    "                    v = T[:, idx]\n",
    "                    P_reverse = []\n",
    "                    for j in range(k - i):\n",
    "                        P_reverse.append(v)\n",
    "                        v = mats[0].dot(v)\n",
    "                        if j == 0:\n",
    "                            J_rows.append(diag_ptr)\n",
    "                            J_cols.append(diag_ptr)\n",
    "                            J_vals.append(eigval)\n",
    "                        else:\n",
    "                            J_rows.extend([diag_ptr - 1, diag_ptr])\n",
    "                            J_cols.extend([diag_ptr, diag_ptr])\n",
    "                            J_vals.extend([-1, eigval])\n",
    "                        diag_ptr += 1\n",
    "                    P_reverse.reverse()\n",
    "                    P.extend(P_reverse)\n",
    "    J = sp.coo_matrix((J_vals, (J_rows, J_cols)),\n",
    "                      shape=(diag_ptr, diag_ptr)).A\n",
    "    P = np.vstack(P).T\n",
    "    return J, P"
   ]
  },
  {
   "cell_type": "code",
   "execution_count": 3,
   "metadata": {},
   "outputs": [],
   "source": [
    "A = np.array([\n",
    "    [3., -1., 0., 0.],\n",
    "    [1., 1., 0., 0.],\n",
    "    [0., 0., 2., 0.],\n",
    "    [-6., 6., -3., 3.]\n",
    "])"
   ]
  },
  {
   "cell_type": "code",
   "execution_count": 4,
   "metadata": {},
   "outputs": [],
   "source": [
    "J, P = jcf(A)"
   ]
  },
  {
   "cell_type": "code",
   "execution_count": 5,
   "metadata": {},
   "outputs": [
    {
     "name": "stdout",
     "output_type": "stream",
     "text": [
      "5.83237162269749e-14\n"
     ]
    }
   ],
   "source": [
    "print(np.abs(A - P.dot(J.dot(np.linalg.inv(P)))).max()\n",
    "      / np.abs(A).max())"
   ]
  }
 ],
 "metadata": {
  "kernelspec": {
   "display_name": "Python 3",
   "language": "python",
   "name": "python3"
  },
  "language_info": {
   "codemirror_mode": {
    "name": "ipython",
    "version": 3
   },
   "file_extension": ".py",
   "mimetype": "text/x-python",
   "name": "python",
   "nbconvert_exporter": "python",
   "pygments_lexer": "ipython3",
   "version": "3.7.3"
  }
 },
 "nbformat": 4,
 "nbformat_minor": 2
}
